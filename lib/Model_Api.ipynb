{
 "cells": [
  {
   "cell_type": "code",
   "execution_count": 9,
   "metadata": {},
   "outputs": [
    {
     "name": "stdout",
     "output_type": "stream",
     "text": [
      "{\"status\":\"LICENSE_STATUS_AAI\"}\n",
      "\n"
     ]
    }
   ],
   "source": [
    "import requests\n",
    "import json\n",
    "\n",
    "# Define the URL for the API endpoint\n",
    "url = 'http://0.0.0.0:5000/get_license_status'\n",
    "\n",
    "# Define the input parameters in a dictionary (JSON format)\n",
    "params = {\n",
    "    'APPLICATION_TYPE': 'RENEW',\n",
    "    'CONDITIONAL_APPROVAL': 'N',\n",
    "    'LICENSE_CODE': 1010,\n",
    "    'SSA': None,\n",
    "    'LEGAL_NAME': 'ALL-BRY CONSTRUCTION CO.',\n",
    "    'DOING_BUSINESS_AS_NAME': 'ALL-BRY CONSTRUCTION CO.',\n",
    "    'ZIP_CODE': 60439,\n",
    "    'APPLICATION_REQUIREMENTS_COMPLETE': '2004-02-10T00:00:00',\n",
    "    'LICENSE_DESCRIPTION': 'Limited Business License'\n",
    "}\n",
    "\n",
    "# Send a POST request to the URL with the input parameters\n",
    "response = requests.post(url, data=json.dumps(params))\n",
    "\n",
    "# Print the response text (result from the API call)\n",
    "print(response.text)\n"
   ]
  },
  {
   "cell_type": "markdown",
   "metadata": {},
   "source": [
    "---"
   ]
  },
  {
   "cell_type": "markdown",
   "metadata": {},
   "source": []
  }
 ],
 "metadata": {
  "kernelspec": {
   "display_name": "Python 3",
   "language": "python",
   "name": "python3"
  },
  "language_info": {
   "codemirror_mode": {
    "name": "ipython",
    "version": 3
   },
   "file_extension": ".py",
   "mimetype": "text/x-python",
   "name": "python",
   "nbconvert_exporter": "python",
   "pygments_lexer": "ipython3",
   "version": "3.8.8"
  }
 },
 "nbformat": 4,
 "nbformat_minor": 4
}
